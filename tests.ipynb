{
 "cells": [
  {
   "cell_type": "code",
   "execution_count": null,
   "metadata": {},
   "outputs": [],
   "source": [
    "import json\n",
    "\n",
    "def dict_to_json(dictionary, filename):\n",
    "    with open(filename, 'w') as json_file:\n",
    "        json.dump(dictionary, json_file, indent=4)"
   ]
  },
  {
   "cell_type": "code",
   "execution_count": null,
   "metadata": {},
   "outputs": [],
   "source": [
    "from src.classes.TNotion import TNotion\n",
    "\n",
    "from src.utils import get_env\n",
    "\n",
    "database_id = get_env('NOTION_DATABASE_TIMEIT_ID')\n",
    "client = await TNotion().get_client()\n",
    "\n",
    "\n",
    "db =  await client.databases.retrieve(database_id=database_id)\n",
    "\n",
    "dict_to_json(db, 'test.json')"
   ]
  },
  {
   "cell_type": "code",
   "execution_count": null,
   "metadata": {},
   "outputs": [],
   "source": [
    "from src.classes import TNotion\n",
    "from src.classes import Timeit\n",
    "\n",
    "hour = Timeit('23233', 'fazendo task', 'Inovacões', 1.75, '2024-09-23')\n",
    "\n",
    "await client.pages.create(database_id=hour.database_id,properties=hour.all_body_json())"
   ]
  },
  {
   "cell_type": "code",
   "execution_count": null,
   "metadata": {},
   "outputs": [],
   "source": []
  }
 ],
 "metadata": {
  "kernelspec": {
   "display_name": ".venv",
   "language": "python",
   "name": "python3"
  },
  "language_info": {
   "codemirror_mode": {
    "name": "ipython",
    "version": 3
   },
   "file_extension": ".py",
   "mimetype": "text/x-python",
   "name": "python",
   "nbconvert_exporter": "python",
   "pygments_lexer": "ipython3",
   "version": "3.12.3"
  }
 },
 "nbformat": 4,
 "nbformat_minor": 2
}
