{
 "cells": [
  {
   "cell_type": "markdown",
   "metadata": {},
   "source": [
    "# Utils"
   ]
  },
  {
   "cell_type": "code",
   "execution_count": null,
   "metadata": {},
   "outputs": [],
   "source": [
    "import json\n",
    "\n",
    "def dict_to_json(dictionary, filename):\n",
    "    with open(filename, 'w') as json_file:\n",
    "        json.dump(dictionary, json_file, indent=4)"
   ]
  },
  {
   "cell_type": "code",
   "execution_count": null,
   "metadata": {},
   "outputs": [],
   "source": [
    "from src.classes import TNotion\n",
    "from src.utils import get_env\n",
    "\n",
    "database_id = get_env('NOTION_DATABASE_TIMEIT_ID')\n",
    "client = await TNotion().get_client()\n",
    "\n",
    "result = await client.databases.query(database_id)\n",
    "\n",
    "dict_to_json(result, 'tests.json')"
   ]
  },
  {
   "cell_type": "markdown",
   "metadata": {},
   "source": [
    "# TimeiT Historical"
   ]
  },
  {
   "cell_type": "code",
   "execution_count": null,
   "metadata": {},
   "outputs": [],
   "source": [
    "from src.classes import TNotion\n",
    "from src.classes import TimeitHistorical\n",
    "\n",
    "client = TNotion()\n",
    "hour = TimeitHistorical('23233', 'fazendo task', 'Inovacões', 6.25, '2024-09-23')\n",
    "\n",
    "await client.client.pages.create(parent=hour.get_parent(), properties=hour.notion_api_json())"
   ]
  },
  {
   "cell_type": "markdown",
   "metadata": {},
   "source": [
    "# TimeiT"
   ]
  },
  {
   "cell_type": "code",
   "execution_count": null,
   "metadata": {},
   "outputs": [],
   "source": [
    "from src.classes import TNotion\n",
    "from src.classes import Timeit\n",
    "\n",
    "client = await TNotion().get_client()\n",
    "hour = Timeit('23233', 'fazendo task', 'Inovacões', 6.25)\n",
    "\n",
    "await client.pages.create(parent=hour.get_parent(), properties=hour.notion_api_json())"
   ]
  },
  {
   "cell_type": "markdown",
   "metadata": {},
   "source": [
    "# TimeiT Consolidated"
   ]
  },
  {
   "cell_type": "code",
   "execution_count": null,
   "metadata": {},
   "outputs": [],
   "source": [
    "from src.classes import TNotion\n",
    "from src.classes import TimeitConsolidated\n",
    "\n",
    "client = TNotion()\n",
    "hour = TimeitConsolidated('fazendo task', ['23233', '23234'], 'Inovacões', 6.25)\n",
    "\n",
    "await client.client.pages.create(parent=hour.get_parent(), properties=hour.notion_api_json())"
   ]
  },
  {
   "cell_type": "code",
   "execution_count": null,
   "metadata": {},
   "outputs": [],
   "source": [
    "from src.classes import TNotion\n",
    "\n",
    "client = TNotion().client\n",
    "\n",
    "await client.pages.retrieve('10bc7e9cee0e8008a1e2f4d51af30451')"
   ]
  },
  {
   "cell_type": "markdown",
   "metadata": {},
   "source": [
    "# X"
   ]
  },
  {
   "cell_type": "code",
   "execution_count": 1,
   "metadata": {},
   "outputs": [
    {
     "name": "stdout",
     "output_type": "stream",
     "text": [
      "Card is missing or empty\n",
      "Processing project: Natural One - Trade Invest Exportação\n",
      "[29379] Plano de teste funcional (0,5) / [29379] Front end dos relatorios (1,5) / [29377] Plano de teste funcional (0,5) / [29377] Front end dos relatorios (2,0) / [RDT] Daily (0,5)\n"
     ]
    }
   ],
   "source": [
    "from src.classes import TNotion\n",
    "\n",
    "test = TNotion()\n",
    "\n",
    "af = await test.post_pages('2024-09-25')"
   ]
  },
  {
   "cell_type": "code",
   "execution_count": null,
   "metadata": {},
   "outputs": [],
   "source": [
    "from src.classes import TNotion\n",
    "\n",
    "test = TNotion()\n",
    "\n",
    "af = await test.get_pages('timeit')\n",
    "\n",
    "len(af)"
   ]
  },
  {
   "cell_type": "code",
   "execution_count": null,
   "metadata": {},
   "outputs": [],
   "source": [
    "af[0]\n",
    "\n",
    "dict_to_json(af[0], 'tests.json')"
   ]
  },
  {
   "cell_type": "code",
   "execution_count": null,
   "metadata": {},
   "outputs": [],
   "source": [
    "from src.classes import TNotion\n",
    "from src.classes import Timeit\n",
    "\n",
    "hour = Timeit('23233', 'fazendo task', 'Inovacões', 6.25)\n",
    "\n",
    "hour.format_class()"
   ]
  }
 ],
 "metadata": {
  "kernelspec": {
   "display_name": ".venv",
   "language": "python",
   "name": "python3"
  },
  "language_info": {
   "codemirror_mode": {
    "name": "ipython",
    "version": 3
   },
   "file_extension": ".py",
   "mimetype": "text/x-python",
   "name": "python",
   "nbconvert_exporter": "python",
   "pygments_lexer": "ipython3",
   "version": "3.12.2"
  }
 },
 "nbformat": 4,
 "nbformat_minor": 2
}
