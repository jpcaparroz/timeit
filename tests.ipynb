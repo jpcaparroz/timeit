{
 "cells": [
  {
   "cell_type": "code",
   "execution_count": null,
   "metadata": {},
   "outputs": [],
   "source": [
    "import json\n",
    "\n",
    "def dict_to_json(dictionary, filename):\n",
    "    with open(filename, 'w') as json_file:\n",
    "        json.dump(dictionary, json_file, indent=4)"
   ]
  },
  {
   "cell_type": "code",
   "execution_count": null,
   "metadata": {},
   "outputs": [],
   "source": [
    "from src.classes import TNotion\n",
    "from src.utils import get_env\n",
    "\n",
    "database_id = get_env('NOTION_DATABASE_TIMEIT_ID')\n",
    "client = await TNotion().get_client()\n",
    "\n",
    "result = await client.databases.query(database_id)\n",
    "\n",
    "dict_to_json(result, 'tests.json')"
   ]
  },
  {
   "cell_type": "code",
   "execution_count": null,
   "metadata": {},
   "outputs": [],
   "source": [
    "from src.classes import TNotion\n",
    "from src.classes import TimeitHistorical\n",
    "\n",
    "client = TNotion()\n",
    "hour = TimeitHistorical('23233', 'fazendo task', 'Inovacões', 6.25, '2024-09-23')\n",
    "\n",
    "await client.client.pages.create(parent=hour.get_parent(), properties=hour.notion_api_json())"
   ]
  },
  {
   "cell_type": "code",
   "execution_count": null,
   "metadata": {},
   "outputs": [],
   "source": [
    "from src.classes import TNotion\n",
    "from src.classes import Timeit\n",
    "\n",
    "client = await TNotion().get_client()\n",
    "hour = Timeit('23233', 'fazendo task', 'Inovacões', 6.25)\n",
    "\n",
    "await client.pages.create(parent=hour.get_parent(), properties=hour.notion_api_json())"
   ]
  },
  {
   "cell_type": "code",
   "execution_count": null,
   "metadata": {},
   "outputs": [],
   "source": [
    "from src.classes import TNotion\n",
    "\n",
    "test = TNotion()\n",
    "\n",
    "af = await test.post_historical_pages()"
   ]
  },
  {
   "cell_type": "code",
   "execution_count": null,
   "metadata": {},
   "outputs": [],
   "source": [
    "af[0]\n",
    "\n",
    "dict_to_json(af[0], 'tests.json')"
   ]
  },
  {
   "cell_type": "code",
   "execution_count": 1,
   "metadata": {},
   "outputs": [
    {
     "ename": "AttributeError",
     "evalue": "'TNotion' object has no attribute 'get_client'",
     "output_type": "error",
     "traceback": [
      "\u001b[0;31m---------------------------------------------------------------------------\u001b[0m",
      "\u001b[0;31mAttributeError\u001b[0m                            Traceback (most recent call last)",
      "Cell \u001b[0;32mIn[1], line 4\u001b[0m\n\u001b[1;32m      1\u001b[0m \u001b[38;5;28;01mfrom\u001b[39;00m \u001b[38;5;21;01msrc\u001b[39;00m\u001b[38;5;21;01m.\u001b[39;00m\u001b[38;5;21;01mclasses\u001b[39;00m \u001b[38;5;28;01mimport\u001b[39;00m TNotion\n\u001b[1;32m      2\u001b[0m \u001b[38;5;28;01mfrom\u001b[39;00m \u001b[38;5;21;01msrc\u001b[39;00m\u001b[38;5;21;01m.\u001b[39;00m\u001b[38;5;21;01mclasses\u001b[39;00m \u001b[38;5;28;01mimport\u001b[39;00m Timeit\n\u001b[0;32m----> 4\u001b[0m client \u001b[38;5;241m=\u001b[39m \u001b[38;5;28;01mawait\u001b[39;00m \u001b[43mTNotion\u001b[49m\u001b[43m(\u001b[49m\u001b[43m)\u001b[49m\u001b[38;5;241;43m.\u001b[39;49m\u001b[43mget_client\u001b[49m()\n\u001b[1;32m      5\u001b[0m hour \u001b[38;5;241m=\u001b[39m Timeit(\u001b[38;5;124m'\u001b[39m\u001b[38;5;124m23233\u001b[39m\u001b[38;5;124m'\u001b[39m, \u001b[38;5;124m'\u001b[39m\u001b[38;5;124mfazendo task\u001b[39m\u001b[38;5;124m'\u001b[39m, \u001b[38;5;124m'\u001b[39m\u001b[38;5;124mInovacões\u001b[39m\u001b[38;5;124m'\u001b[39m, \u001b[38;5;241m6.25\u001b[39m)\n\u001b[1;32m      7\u001b[0m hour\u001b[38;5;241m.\u001b[39mformat_class()\n",
      "\u001b[0;31mAttributeError\u001b[0m: 'TNotion' object has no attribute 'get_client'"
     ]
    }
   ],
   "source": [
    "from src.classes import TNotion\n",
    "from src.classes import Timeit\n",
    "\n",
    "hour = Timeit('23233', 'fazendo task', 'Inovacões', 6.25)\n",
    "\n",
    "hour.format_class()"
   ]
  }
 ],
 "metadata": {
  "kernelspec": {
   "display_name": ".venv",
   "language": "python",
   "name": "python3"
  },
  "language_info": {
   "codemirror_mode": {
    "name": "ipython",
    "version": 3
   },
   "file_extension": ".py",
   "mimetype": "text/x-python",
   "name": "python",
   "nbconvert_exporter": "python",
   "pygments_lexer": "ipython3",
   "version": "3.12.3"
  }
 },
 "nbformat": 4,
 "nbformat_minor": 2
}
